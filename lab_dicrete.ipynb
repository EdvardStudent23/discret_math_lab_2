{
  "cells": [
    {
      "cell_type": "markdown",
      "metadata": {
        "id": "TUMlYqj3oKCC"
      },
      "source": [
        "## Лабораторна робота №2: \"Імплементація алгоритмів стиснення\"\n",
        "\n",
        "Склад команди та розподіл виконаних завдань:\n",
        "\n",
        "-\n",
        "-\n",
        "\n",
        "Для кожного з алгоритмів поданих нижче\n",
        "- опишіть як працює алгорит\n",
        "- напишіть класи з методами encode та decode\n",
        "- перевірте правильність кодування та декодування\n",
        "- дослідіть час виконання коду в залежності від розмірів вхідних даних\n",
        "- оцініть ступінь стиснення(у відсотка) в залежності від розмірів\n",
        "- напишіть висновок про ефективність різних алгоритмів та умови за яких той чи інший алгоритм дають кращий результат"
      ]
    },
    {
      "cell_type": "markdown",
      "metadata": {
        "id": "q7FpJG25oNzA"
      },
      "source": [
        "# Алгоритм Гаффмана\n",
        "\n",
        "В цьому алгоритмі доцільно імплементувати клас node та додаткові функції в Huffman для побудови дерева кодування"
      ]
    },
    {
      "cell_type": "code",
      "execution_count": null,
      "metadata": {
        "id": "5fHzFB9gh7c2"
      },
      "outputs": [],
      "source": [
        "class Huffman:\n",
        "    @staticmethod\n",
        "    def sort_list(lst):\n",
        "        items = [(v, k) for k, v in lst.items()]\n",
        "        items.sort(reverse=True)\n",
        "        return {k: v for v, k in items}\n",
        "    @staticmethod\n",
        "    def create_table(data):\n",
        "        list_of_nodes = []\n",
        "        for i in set(data):\n",
        "            list_of_nodes.append(Node(i, data.count(i)))\n",
        "        list_of_nodes = sorted(list_of_nodes, key=lambda x: x.weight, reverse = True)\n",
        "        temp1 = list_of_nodes.copy()\n",
        "        list_of_trees = []\n",
        "        list_of_trees.append(temp1.copy())\n",
        "        while len(temp1) > 2:\n",
        "            temp = []\n",
        "            for i in range(len(temp1)-2):\n",
        "                temp.append(temp1[i])\n",
        "            rightnode = temp1[-2]\n",
        "            leftnode = temp1[-1]\n",
        "            temp.append(Node(leftnode.name + rightnode.name, leftnode.weight + rightnode.weight, None, leftnode, rightnode))\n",
        "            temp1 = temp\n",
        "            temp1 = sorted(temp1,  key=lambda x: x.weight, reverse = True)\n",
        "            list_of_trees.append(sorted(temp1,  key=lambda x: x.weight, reverse = True))\n",
        "        temp1[0].code = '1'\n",
        "        temp1[1].code = '0'\n",
        "        for i in list_of_trees[-2::-1]:\n",
        "            # print(i)\n",
        "            for nodee in i:\n",
        "                if nodee.code == '':\n",
        "                    if nodee.parent.left == nodee:\n",
        "                        nodee.code += nodee.parent.code + '0'\n",
        "                    else:\n",
        "                        nodee.code += nodee.parent.code + '1'\n",
        "                else:\n",
        "                    continue\n",
        "        leftnode = temp1[1]\n",
        "        rightnode = temp1[0]\n",
        "        return list_of_trees[0], Node(leftnode.name + rightnode.name, leftnode.weight + rightnode.weight, None, leftnode, rightnode)\n",
        "    @staticmethod\n",
        "    def encode(data):\n",
        "        temp, root_node = Huffman.create_table(data)\n",
        "        lst = dict()    \n",
        "        table = dict()\n",
        "        result = []\n",
        "        lst = dict()\n",
        "        for x in temp:\n",
        "            lst[x.name] = x.weight\n",
        "        items = [(v, k) for k, v in lst.items()]\n",
        "        items.sort(reverse=True)\n",
        "        list_of_chars = [k for v, k in items]\n",
        "        for x in temp:\n",
        "            table[x.name] = x.code\n",
        "        # print(table)\n",
        "        for char in data:\n",
        "            result.append(table[char])\n",
        "        return ''.join(result), root_node\n",
        "    @staticmethod\n",
        "    def decode(data, root_node):\n",
        "        result = ''\n",
        "\n",
        "        index = 0\n",
        "        temp = ''\n",
        "        node = root_node\n",
        "        while index < len(data):\n",
        "            node = root_node\n",
        "            for i in data[index:]:\n",
        "                if node.left != None:\n",
        "                    if i == '0':\n",
        "                        temp += i\n",
        "                        node = node.left\n",
        "                        index += 1\n",
        "                    else:\n",
        "                        temp += i\n",
        "                        node = node.right\n",
        "                        index += 1\n",
        "                else:\n",
        "                    result += node.name\n",
        "                    # index += len(node.code)\n",
        "                    break\n",
        "            if index == len(data):\n",
        "                result += node.name\n",
        "                break\n",
        "            print(index, len(data))\n",
        "        return result"
      ]
    },
    {
      "cell_type": "code",
      "execution_count": null,
      "metadata": {},
      "outputs": [],
      "source": [
        "#Test Huffman\n",
        "data = 'I love my mother very much!'\n",
        "encoded = Huffman.encode(data)\n",
        "decoded = Huffman.decode(encoded)\n",
        "print(decoded == data)"
      ]
    },
    {
      "cell_type": "markdown",
      "metadata": {
        "id": "6_0LIrbWoQxo"
      },
      "source": [
        "# Алгоритм LZW"
      ]
    },
    {
      "cell_type": "code",
      "execution_count": null,
      "metadata": {
        "id": "ogew0FkaoUNS"
      },
      "outputs": [],
      "source": [
        "class LZW:\n",
        "    def encode(self, data):\n",
        "        dictionary = {chr(i):i for i in range(256)}\n",
        "        next_val = 256\n",
        "        temporary_for_check = ''\n",
        "        compressed_data = []\n",
        "        index = 0\n",
        "        while index < len(data)-1:\n",
        "            unit = data[index]\n",
        "            if unit in dictionary.keys():\n",
        "                temporary_for_check = unit\n",
        "                for char_temp in data[index+1:]:\n",
        "                    temporary_for_check += char_temp\n",
        "                    if temporary_for_check in dictionary.keys():\n",
        "                        continue\n",
        "                    else:\n",
        "                        index += len(temporary_for_check)-1\n",
        "                        dictionary[temporary_for_check] = next_val\n",
        "                        compressed_data.append(dictionary[temporary_for_check[:-1]])\n",
        "                        next_val += 1\n",
        "                        break\n",
        "            if index == len(data) - 1:\n",
        "                compressed_data.append(dictionary[temporary_for_check[-1]])\n",
        "            temporary_for_check = ''\n",
        "        return compressed_data\n",
        "    def decompress(self, compressed_data):\n",
        "        dictionary = {i:chr(i) for i in range(256)}\n",
        "        next_value = 256\n",
        "        previous_entry = dictionary[compressed_data[0]]\n",
        "        decompressed_data = ''\n",
        "        decompressed_data += previous_entry\n",
        "        for i in compressed_data[1:]:\n",
        "            if i in dictionary.keys():\n",
        "                decompressed_data += dictionary[i]\n",
        "                previous_entry += dictionary[i][0]\n",
        "                if previous_entry not in dictionary.values():\n",
        "                    dictionary[next_value] = previous_entry\n",
        "                    next_value += 1\n",
        "                previous_entry = dictionary[i]\n",
        "            elif i == next_value:\n",
        "                previous_entry += previous_entry[0]\n",
        "                dictionary[next_value] = previous_entry\n",
        "                decompressed_data += dictionary[next_value]\n",
        "\n",
        "                previous_entry = dictionary[next_value]\n",
        "                next_value += 1\n",
        "        return decompressed_data\n"
      ]
    },
    {
      "cell_type": "code",
      "execution_count": null,
      "metadata": {},
      "outputs": [],
      "source": [
        "lzw = LZW()\n",
        "data = 'God bless America'\n",
        "encoded = lzw.encode(data)\n",
        "decoded = lzw.decode(encoded)\n",
        "print(decoded == data)"
      ]
    },
    {
      "cell_type": "markdown",
      "metadata": {
        "id": "eETQbkkDoTDc"
      },
      "source": [
        "# Алгоритм LZ77\n",
        "\n",
        "Потрібно заміряти розміри саме тексту, проте для роботи доцільно використовувати список тюплів, тому для зручності варто імплементувати додаткові алгоритми _text2list та _list2text"
      ]
    },
    {
      "cell_type": "code",
      "execution_count": null,
      "metadata": {
        "id": "Mu1A0QS2oaOF"
      },
      "outputs": [],
      "source": [
        "class LZ77:\n",
        "    def __init__(self, buffer_size: int):\n",
        "        self.buff_size = buffer_size\n",
        "\n",
        "    def encode(self, text: str) -> str:\n",
        "        compressed_data = []\n",
        "        bufsize = self.buff_size\n",
        "        pos = 0\n",
        "        max_length = len(data)\n",
        "        while pos < len(data):\n",
        "            dist_match = 0\n",
        "            len_match = 0\n",
        "            for i in range(1, min(max_length, len(data) - pos) + 1):\n",
        "                substring = data[pos:pos + i]\n",
        "                pre_occur = data[max(0, pos - bufsize): pos].rfind(substring)\n",
        "                if pos - pre_occur <= bufsize and pre_occur != -1 :\n",
        "                    len_match = i\n",
        "                    dist_match = pos - pre_occur\n",
        "                else:\n",
        "                    break\n",
        "            if len_match > 0:\n",
        "                if pos + len_match < len(data):\n",
        "                    next_char = data[pos + len_match] \n",
        "                compressed_data.append((dist_match, len_match, next_char))\n",
        "                pos += len_match + 1\n",
        "            else:\n",
        "                compressed_data.append((0, 0, data[pos]))\n",
        "                pos += 1\n",
        "        return compressed_data\n",
        "\n",
        "    def decode(self, code: str) -> str:\n",
        "        '''\n",
        "        Decoding for lz77\n",
        "        '''\n",
        "        decompressed_data = []\n",
        "        for item in compressed_data:\n",
        "            dist_match, len_match, next_char = item\n",
        "            if len_match > 0:\n",
        "                start_pos = len(decompressed_data) - dist_match\n",
        "                for i in range(len_match):\n",
        "                    decompressed_data.append(decompressed_data[start_pos + i])\n",
        "            decompressed_data.append(next_char)\n",
        "        return ''.join(decompressed_data)"
      ]
    },
    {
      "cell_type": "code",
      "execution_count": null,
      "metadata": {},
      "outputs": [],
      "source": [
        "lz77 = LZ77(6)\n",
        "data = 'I want my money back'\n",
        "encoded = lz77.encode(data)\n",
        "decoded = lz77.decode(encoded)\n",
        "print(decoded == data)"
      ]
    },
    {
      "cell_type": "markdown",
      "metadata": {
        "id": "bz-B5jWroghO"
      },
      "source": [
        "# Алгоритм Deflate"
      ]
    },
    {
      "cell_type": "code",
      "execution_count": null,
      "metadata": {
        "id": "ZAU57ZQtogOC"
      },
      "outputs": [],
      "source": [
        "class Deflate:\n",
        "    def __init__(self, buffer_size=6: int):\n",
        "        self.buffer_size = buffer_size\n",
        "    def encode(self, data):\n",
        "        lz77 = LZ77(self.buffer_size)\n",
        "        temp, node = Huffman.encode(data)\n",
        "        return lz77.compress(temp), node\n",
        "    def decode(self, data, node):\n",
        "        lz77 = LZ77(self.buffer_size)\n",
        "        return Huffman.decode(lz77.decompress(data), node)"
      ]
    },
    {
      "cell_type": "code",
      "execution_count": null,
      "metadata": {},
      "outputs": [],
      "source": [
        "deflate = Deflate(6)\n",
        "data = 'Long live Ukraine!'\n",
        "encoded, node = deflate.encode(data)\n",
        "decoded = deflate.decode(data)\n",
        "print(decoded == data)"
      ]
    }
  ],
  "metadata": {
    "colab": {
      "provenance": []
    },
    "kernelspec": {
      "display_name": "Python 3",
      "name": "python3"
    },
    "language_info": {
      "name": "python"
    }
  },
  "nbformat": 4,
  "nbformat_minor": 0
}
